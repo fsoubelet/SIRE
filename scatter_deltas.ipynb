{
 "cells": [
  {
   "cell_type": "code",
   "execution_count": 1,
   "id": "1152f13d-fa76-4cb0-be12-5790c64ea181",
   "metadata": {},
   "outputs": [],
   "source": [
    "from sympy import *\n",
    "\n",
    "init_printing()"
   ]
  },
  {
   "cell_type": "code",
   "execution_count": 2,
   "id": "dd9930ae-2e23-4c41-8929-f70d68085ae5",
   "metadata": {},
   "outputs": [
    {
     "data": {
      "image/png": "[encoded data removed]",
      "text/latex": [
       "$\\displaystyle \\left( \\mathrm{tot_y}, \\  \\mathrm{density}, \\  \\gamma_{r}, \\  \\beta_{r}\\right)$"
      ],
      "text/plain": [
       "(\\mathrm{tot_y}, \\mathrm{density}, \\gammaᵣ, \\betaᵣ)"
      ]
     },
     "execution_count": 2,
     "metadata": {},
     "output_type": "execute_result"
    }
   ],
   "source": [
    "toty, density = symbols(r\"\\mathrm{tot_y}, \\mathrm{density}\")\n",
    "gammar, betar = symbols(r\"\\gamma_r \\beta_r\")\n",
    "toty, density, gammar, betar"
   ]
  },
  {
   "cell_type": "code",
   "execution_count": 3,
   "id": "bc6bfbc2-a52e-46db-9eb1-4d886fa9a4bf",
   "metadata": {},
   "outputs": [],
   "source": [
    "deltapcm_x = Symbol(r\"\\Delta p_cmx\")\n",
    "deltapcm_y = Symbol(r\"\\Delta p_cmy\")\n",
    "deltapcm_z = Symbol(r\"\\Delta p_cmz\")\n",
    "# deltapcm_x, deltapcm_y, deltapcm_z"
   ]
  },
  {
   "cell_type": "code",
   "execution_count": 4,
   "id": "9fd9c1f7-9013-4a8d-84d7-29156635ec3e",
   "metadata": {},
   "outputs": [],
   "source": [
    "deltapcm_t = Symbol(r\"\\Delta p_{cm}^{transverse}\")\n",
    "deltapcm_n = Symbol(r\"\\Delta p_{cm}^{n}\")\n",
    "# deltapcm_t, deltapcm_n"
   ]
  },
  {
   "cell_type": "code",
   "execution_count": 5,
   "id": "e33f1329-be1c-4722-bc8f-5db06385fa14",
   "metadata": {},
   "outputs": [],
   "source": [
    "phi, psi = symbols(r\"\\phi \\psi\")\n",
    "# phi, psi"
   ]
  },
  {
   "cell_type": "code",
   "execution_count": 6,
   "id": "91c78364-105a-44dc-b8cc-c1e6454d4f4a",
   "metadata": {},
   "outputs": [],
   "source": [
    "betatilda, C = symbols(r\"\\tilde{\\beta} C\")\n",
    "coulog = log(C)\n",
    "# betatilda, coulog"
   ]
  },
  {
   "cell_type": "code",
   "execution_count": 7,
   "id": "9fac02a5-f7d8-4b4a-8bf7-c127698bb8a3",
   "metadata": {},
   "outputs": [],
   "source": [
    "one_minus_cospsi = 1 - cos(psi)\n",
    "sin_psi = sin(psi)\n",
    "cos_phi, sin_phi = cos(phi), sin(phi)"
   ]
  },
  {
   "cell_type": "markdown",
   "id": "69b83ff1-90c6-4752-a784-d55de91840a0",
   "metadata": {},
   "source": [
    "## Computing the deltas - Case 1\n",
    "\n",
    "This is if $C > 1$"
   ]
  },
  {
   "cell_type": "code",
   "execution_count": 8,
   "id": "b811171f-91b3-49a6-93b2-23588abc36d0",
   "metadata": {
    "jupyter": {
     "source_hidden": true
    }
   },
   "outputs": [],
   "source": [
    "deltap1cmx = (\n",
    "    -deltapcm_x * one_minus_cospsi\n",
    "    + (sin_psi * cos_phi * deltapcm_x * deltapcm_z - sin_psi * sin_phi * deltapcm_n * deltapcm_y) / deltapcm_t\n",
    ") / 2.0\n",
    "\n",
    "deltap1cmy = (\n",
    "    -deltapcm_y * one_minus_cospsi\n",
    "    + (sin_psi * cos_phi * deltapcm_y * deltapcm_z - sin_psi * sin_phi * deltapcm_n * deltapcm_x) / deltapcm_t\n",
    ") / 2.0\n",
    "\n",
    "deltap1cmz = (-deltapcm_z * one_minus_cospsi - sin_psi * cos_phi * deltapcm_t) / 2.0 * gammar"
   ]
  },
  {
   "cell_type": "code",
   "execution_count": 9,
   "id": "376ea9b8-3f26-41e0-a687-e01c61cc536d",
   "metadata": {},
   "outputs": [
    {
     "data": {
      "image/png": "[encoded data removed]",
      "text/latex": [
       "$\\displaystyle \\frac{0.5 \\left(\\Delta p_{cmx} \\Delta p_{cmz} \\sin{\\left(\\psi \\right)} \\cos{\\left(\\phi \\right)} + \\Delta p_{cmx} \\Delta p_{cm}^{transverse} \\left(\\cos{\\left(\\psi \\right)} - 1\\right) - \\Delta p_{cmy} \\Delta p_{cm}^{n} \\sin{\\left(\\phi \\right)} \\sin{\\left(\\psi \\right)}\\right)}{\\Delta p_{cm}^{transverse}}$"
      ],
      "text/plain": [
       "0.5⋅(\\Delta p_cmx⋅\\Delta p_cmz⋅sin(\\psi)⋅cos(\\phi) + \\Delta p_cmx⋅\\Delta p_{cm}__{transverse}⋅(cos(\\psi) - \n",
       "───────────────────────────────────────────────────────────────────────────────────────────────────────────\n",
       "                                                                    \\Delta p_{cm}__{transverse}            \n",
       "\n",
       "1) - \\Delta p_cmy⋅\\Delta p_{cm}__{n}⋅sin(\\phi)⋅sin(\\psi))\n",
       "─────────────────────────────────────────────────────────\n",
       "                                                         "
      ]
     },
     "execution_count": 9,
     "metadata": {},
     "output_type": "execute_result"
    }
   ],
   "source": [
    "simplify(deltap1cmx)"
   ]
  },
  {
   "cell_type": "code",
   "execution_count": 10,
   "id": "974ff599-6d3a-4659-bc9a-d3f8b26b78ef",
   "metadata": {},
   "outputs": [
    {
     "data": {
      "image/png": "[encoded data removed]",
      "text/latex": [
       "$\\displaystyle \\frac{0.5 \\left(- \\Delta p_{cmx} \\Delta p_{cm}^{n} \\sin{\\left(\\phi \\right)} \\sin{\\left(\\psi \\right)} + \\Delta p_{cmy} \\Delta p_{cmz} \\sin{\\left(\\psi \\right)} \\cos{\\left(\\phi \\right)} + \\Delta p_{cmy} \\Delta p_{cm}^{transverse} \\left(\\cos{\\left(\\psi \\right)} - 1\\right)\\right)}{\\Delta p_{cm}^{transverse}}$"
      ],
      "text/plain": [
       "0.5⋅(-\\Delta p_cmx⋅\\Delta p_{cm}__{n}⋅sin(\\phi)⋅sin(\\psi) + \\Delta p_cmy⋅\\Delta p_cmz⋅sin(\\psi)⋅cos(\\phi) +\n",
       "───────────────────────────────────────────────────────────────────────────────────────────────────────────\n",
       "                                                                     \\Delta p_{cm}__{transverse}           \n",
       "\n",
       " \\Delta p_cmy⋅\\Delta p_{cm}__{transverse}⋅(cos(\\psi) - 1))\n",
       "──────────────────────────────────────────────────────────\n",
       "                                                          "
      ]
     },
     "execution_count": 10,
     "metadata": {},
     "output_type": "execute_result"
    }
   ],
   "source": [
    "simplify(deltap1cmy)"
   ]
  },
  {
   "cell_type": "code",
   "execution_count": 11,
   "id": "4f002138-8778-40d3-aaee-e4dce7a1c7bb",
   "metadata": {},
   "outputs": [
    {
     "data": {
      "image/png": "[encoded data removed]",
      "text/latex": [
       "$\\displaystyle 0.5 \\gamma_{r} \\left(\\Delta p_{cmz} \\cos{\\left(\\psi \\right)} - \\Delta p_{cmz} - \\Delta p_{cm}^{transverse} \\sin{\\left(\\psi \\right)} \\cos{\\left(\\phi \\right)}\\right)$"
      ],
      "text/plain": [
       "0.5⋅\\gammaᵣ⋅(\\Delta p_cmz⋅cos(\\psi) - \\Delta p_cmz - \\Delta p_{cm}__{transverse}⋅sin(\\psi)⋅cos(\\phi))"
      ]
     },
     "execution_count": 11,
     "metadata": {},
     "output_type": "execute_result"
    }
   ],
   "source": [
    "simplify(deltap1cmz)"
   ]
  },
  {
   "cell_type": "markdown",
   "id": "ced4d5cc-6c8c-4e44-a0ff-673d634703ee",
   "metadata": {},
   "source": [
    "## Computing the deltas - Case 2\n",
    "\n",
    "This is the other case"
   ]
  },
  {
   "cell_type": "code",
   "execution_count": 12,
   "id": "dfefa3c8-6bdb-44c6-a0af-aa1ef5159707",
   "metadata": {},
   "outputs": [],
   "source": [
    "deltap1cmx_c2 = deltapcm_n * sin_psi * cos_phi / 2.0\n",
    "deltap1cmy_c2 = deltapcm_n * sin_psi * sin_phi / 2.0\n",
    "deltap1cmz_c2 = -deltapcm_n * one_minus_cospsi / 2.0 * gammar"
   ]
  },
  {
   "cell_type": "code",
   "execution_count": 13,
   "id": "54adbbd3-13e6-4a89-8800-5f278417fbc4",
   "metadata": {},
   "outputs": [
    {
     "data": {
      "image/png": "[encoded data removed]",
      "text/latex": [
       "$\\displaystyle 0.5 \\Delta p_{cm}^{n} \\sin{\\left(\\psi \\right)} \\cos{\\left(\\phi \\right)}$"
      ],
      "text/plain": [
       "0.5⋅\\Delta p_{cm}__{n}⋅sin(\\psi)⋅cos(\\phi)"
      ]
     },
     "execution_count": 13,
     "metadata": {},
     "output_type": "execute_result"
    }
   ],
   "source": [
    "simplify(deltap1cmx_c2)"
   ]
  },
  {
   "cell_type": "code",
   "execution_count": 14,
   "id": "602fef0c-1ba5-4441-a136-00d3898e47ad",
   "metadata": {},
   "outputs": [
    {
     "data": {
      "image/png": "[encoded data removed]",
      "text/latex": [
       "$\\displaystyle 0.5 \\Delta p_{cm}^{n} \\sin{\\left(\\phi \\right)} \\sin{\\left(\\psi \\right)}$"
      ],
      "text/plain": [
       "0.5⋅\\Delta p_{cm}__{n}⋅sin(\\phi)⋅sin(\\psi)"
      ]
     },
     "execution_count": 14,
     "metadata": {},
     "output_type": "execute_result"
    }
   ],
   "source": [
    "simplify(deltap1cmy_c2)"
   ]
  },
  {
   "cell_type": "code",
   "execution_count": 15,
   "id": "dd918959-a27d-4747-b857-c9e3d7b22343",
   "metadata": {},
   "outputs": [
    {
     "data": {
      "image/png": "[encoded data removed]",
      "text/latex": [
       "$\\displaystyle 0.5 \\Delta p_{cm}^{n} \\gamma_{r} \\left(\\cos{\\left(\\psi \\right)} - 1\\right)$"
      ],
      "text/plain": [
       "0.5⋅\\Delta p_{cm}__{n}⋅\\gammaᵣ⋅(cos(\\psi) - 1)"
      ]
     },
     "execution_count": 15,
     "metadata": {},
     "output_type": "execute_result"
    }
   ],
   "source": [
    "simplify(deltap1cmz_c2)"
   ]
  },
  {
   "cell_type": "markdown",
   "id": "3c9b4e51-77f2-4c08-a29a-474a3ceb5f1d",
   "metadata": {
    "jp-MarkdownHeadingCollapsed": true
   },
   "source": [
    "## Now as a function?"
   ]
  },
  {
   "cell_type": "code",
   "execution_count": 16,
   "id": "95a12324-8a7c-47df-b941-8f02beaa4f05",
   "metadata": {},
   "outputs": [],
   "source": [
    "import numpy as np\n",
    "import xtrack as xt\n",
    "from scipy.constants import c"
   ]
  },
  {
   "cell_type": "code",
   "execution_count": 17,
   "id": "167f9916-5805-42ae-a8fa-19fe43b69232",
   "metadata": {},
   "outputs": [],
   "source": [
    "def collide_parts(idx1: int, idx2: int, toty: float, density: float, delta_t: float, particles: xt.Particles):\n",
    "    nplike = particles._context.nplike_lib\n",
    "    rng = nplike.random.default_rng()\n",
    "    (beta0,) = particles.beta0[idx1]  # same for both\n",
    "    gamma0 = particles.gamma0[idx1]  # same for both\n",
    "    r0 = particles.get_classical_particle_radius0()\n",
    "    # ----------------------------------------------\n",
    "    # We compute the delta_u from Takizuka and Abe (momentum diffs)\n",
    "    deltapcmx = particles.px[idx1] - particles.px[idx2]\n",
    "    deltapcmy = particles.py[idx1] - particles.py[idx2]\n",
    "    deltapcmz = (particles.delta[idx1] - particles.delta[idx2]) / gammar  # gammar in SIRE\n",
    "    # ----------------------------------------------\n",
    "    # We compute the transverse u_T and the n (complete?) one (from SIRE)\n",
    "    deltapcmt = nplike.sqrt(deltapcmx**2 + deltapcmy**2)\n",
    "    deltapcmn = nplike.sqrt(deltapcmt**2 + deltapcmz**2)\n",
    "    # ----------------------------------------------\n",
    "    phi = 2 * np.pi * rng.random()  # polar collision angle, random uniform between 0 and 2pi\n",
    "    betatilde = beta0 * gamma0 * deltapcmn / 2\n",
    "    coulomb = toty * betatilda**2 / r0\n",
    "    # ----------------------------------------------\n",
    "    # Firstly, assert we can get a Coulog otherwise ignore all\n",
    "    if coulomb <= 1:\n",
    "        return\n",
    "    # ----------------------------------------------\n",
    "    # Firstly, assert we can get a Coulog otherwise ignore all\n",
    "    coulog = nplike.log(coulomb)\n",
    "    ome_minus_cos_psi = 2 * np.pi * c * density * r0**2 * delta_t * coulog / (gamma0**2 * betatilda**3)\n",
    "    sin_psi = np.sqrt(2) * nplike.sqrt(one_minus_cospsi)\n",
    "    # ----------------------------------------------\n",
    "    # Two cases on determining the deltap in each dimension\n",
    "    if deltapcm_t != 0:  # There is non-zero deltapcmt (transverse u_T)\n",
    "        deltap1cmx = (\n",
    "            -deltapcmx * ome_minus_cos_psi\n",
    "            + (sin_psi * np.cos(phi) * deltapcmx * deltapcmz - sin_psi * np.sin(phi) * deltapcmn * deltapcmy) / deltapcmt\n",
    "        ) / 2.0\n",
    "        deltap1cmy = (\n",
    "            -deltapcmy * ome_minus_cos_psi\n",
    "            + (sin_psi * np.cos(phi) * deltapcmy * deltapcmz - sinpsi * np.sin(phi) * deltapcmn * deltapcmx) / deltapcmt\n",
    "        ) / 2.0\n",
    "        deltap1cmz = gamma0 * (-deltapcmz * ome_minus_cos_psi - sin_psi * np.cos(phi) * deltapcmt) / 2.0\n",
    "    else:  # There is zero deltapcmt (transverse u_T)\n",
    "        deltap1cmx = deltapcmn * sin_psi * np.cos(phi) / 2.0\n",
    "        deltap1cmy = deltapcmn * sin_psi * np.sin(phi) / 2.0\n",
    "        deltap1cmz = gamma0 * (-deltapcmn * ome_minus_cos_psi) / 2.0\n",
    "    # ----------------------------------------------\n",
    "    # Apply the deltas to the particles (add to part1, remove from part2)\n",
    "    particles.px[idx1] += deltap1cmx\n",
    "    particles.py[idx1] += deltap1cmy\n",
    "    particles.delta[idx1] += deltap1cmz\n",
    "    particles.px[idx2] -= deltap1cmx\n",
    "    particles.py[idx2] -= deltap1cmy\n",
    "    particles.delta[idx2] -= deltap1cmz"
   ]
  },
  {
   "cell_type": "markdown",
   "id": "95b8d8eb-a8d2-4790-b763-0d696d57788d",
   "metadata": {},
   "source": [
    "---"
   ]
  }
 ],
 "metadata": {
  "kernelspec": {
   "display_name": "dev",
   "language": "python",
   "name": "dev"
  },
  "language_info": {
   "codemirror_mode": {
    "name": "ipython",
    "version": 3
   },
   "file_extension": ".py",
   "mimetype": "text/x-python",
   "name": "python",
   "nbconvert_exporter": "python",
   "pygments_lexer": "ipython3",
   "version": "3.12.4"
  }
 },
 "nbformat": 4,
 "nbformat_minor": 5
}
